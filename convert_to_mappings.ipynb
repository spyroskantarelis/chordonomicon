{
 "cells": [
  {
   "cell_type": "code",
   "execution_count": null,
   "metadata": {},
   "outputs": [],
   "source": [
    "import pandas as pd\n",
    "import ast\n",
    "import re"
   ]
  },
  {
   "cell_type": "code",
   "execution_count": null,
   "metadata": {},
   "outputs": [],
   "source": [
    "# Read the chordonomicon dataset\n",
    "df = pd.read_csv('chordonomicon.csv')\n",
    "\n",
    "# Read the mapping CSV file\n",
    "chord_relations = pd.read_csv('chords_mapping.csv')\n",
    "# Create a dictionary with keys the \"chords\" and values the \"degrees\"\n",
    "chord_degrees = dict(zip(chord_relations['Chords'], chord_relations['Degrees']))\n",
    "for key, value in chord_degrees.items():\n",
    "    chord_degrees[key] = ast.literal_eval(value)\n",
    "chord_notes = dict(zip(chord_relations['Chords'], chord_relations['Notes']))\n",
    "for key, value in chord_notes.items():\n",
    "    chord_notes[key] = ast.literal_eval(value)\n"
   ]
  },
  {
   "cell_type": "code",
   "execution_count": null,
   "metadata": {},
   "outputs": [],
   "source": [
    "# remove inversions\n",
    "df['chords'] = df['chords'].apply(lambda s: re.sub(r\"/[^/]*$\", \"\", s))\n"
   ]
  },
  {
   "cell_type": "code",
   "execution_count": null,
   "metadata": {},
   "outputs": [],
   "source": [
    "# map the chords to notes and binary degree table\n",
    "for progression in df['chords']:\n",
    "    for chord in progression.split():\n",
    "            if \">\" not in chord:\n",
    "                notes = chord_notes[chord]\n",
    "                degrees = chord_degrees[chord]"
   ]
  },
  {
   "cell_type": "code",
   "execution_count": 24,
   "metadata": {},
   "outputs": [],
   "source": [
    "# function for pitch shifting\n",
    "degrees_sharp = ['C', 'Cs', 'D', 'Ds', 'E', 'F', 'Fs', 'G', 'Gs', 'A', 'As', 'B']\n",
    "degrees_flat = ['C', 'Db', 'D', 'Eb', 'E', 'F', 'Gb', 'G', 'Ab', 'A', 'Bb', 'B']\n",
    "\n",
    "\n",
    "#def convert_chord(chord, shift):\n",
    "def convert_chord(chord, shift):\n",
    "    converted_chord = []\n",
    "    converted_chord_base = []\n",
    "    chord_progression = chord.split(' ')\n",
    "    for cchord in chord_progression:\n",
    "        if '>' in cchord:\n",
    "            converted_chord.append(cchord)\n",
    "            converted_chord_base.append(cchord)\n",
    "        elif cchord == '':\n",
    "            pass\n",
    "        else:\n",
    "            degree = 'next'\n",
    "            rest = 'next'\n",
    "            for note in all_notes_list:\n",
    "                if cchord.startswith(note):\n",
    "                    if 'sus' in cchord and 'ssus' not in cchord and 'bsus' not in cchord and '7sus' not in cchord:\n",
    "                        break\n",
    "                    else:\n",
    "                        degree = note\n",
    "                        degree = degree.replace(\"Bs\",'C').replace('Cb',\"B\").replace('Es','F').replace('Fb','E')\n",
    "                        rest = cchord.replace(note, '', 1)\n",
    "                        break\n",
    "                else:\n",
    "                    for note in notes:\n",
    "                        if cchord.startswith(note):\n",
    "                            degree = note\n",
    "                            degree = degree.replace(\"Bs\",'C').replace('Cb',\"B\").replace('Es','F').replace('Fb','E')\n",
    "                            rest = cchord.replace(note, '', 1)\n",
    "                            break\n",
    "\n",
    "            if degree in degrees_sharp:\n",
    "                index = degrees_sharp.index(degree)\n",
    "                next_index = (index + shift) % len(degrees_sharp)\n",
    "                next_degree = degrees_sharp[next_index]\n",
    "            elif degree in degrees_flat:\n",
    "                index = degrees_flat.index(degree)\n",
    "                next_index = (index + shift) % len(degrees_flat)\n",
    "                next_degree = degrees_flat[next_index]\n",
    "            else:\n",
    "                next_degree = 'next'\n",
    "                \n",
    "\n",
    "            next_base = ''  # Initialize next_base here\n",
    "\n",
    "            if '/' in cchord:\n",
    "                base = cchord.split('/')[1]\n",
    "                extension = rest.replace(base, '').replace('/', '')\n",
    "                if base in degrees_sharp:\n",
    "                    index = degrees_sharp.index(base)\n",
    "                    next_index = (index + shift) % len(degrees_sharp)\n",
    "                    next_base = degrees_sharp[next_index]\n",
    "                elif base in degrees_flat:\n",
    "                    index = degrees_flat.index(base)\n",
    "                    next_index = (index + shift) % len(degrees_flat)\n",
    "                    next_base = degrees_flat[next_index]\n",
    "\n",
    "                next_base = next_base.replace(\"Bs\",'C').replace('Cb',\"B\").replace('Es','F').replace('Fb','E')\n",
    "                converted_chord_base.append(next_degree + extension + '/' + next_base)\n",
    "                converted_chord.append(next_degree + extension)\n",
    "                \n",
    "            else:\n",
    "                converted_chord.append(next_degree + rest)\n",
    "                converted_chord_base.append(next_degree + rest)\n",
    "    return converted_chord, converted_chord_base\n",
    "\n",
    "\n",
    "\n",
    "notes = ['A', 'B', 'C', 'D', 'E', 'F', 'G']\n",
    "accs = ['b', 's']\n",
    "all_notes_list = [note + acc for note in notes for acc in accs]"
   ]
  },
  {
   "cell_type": "code",
   "execution_count": 25,
   "metadata": {},
   "outputs": [
    {
     "name": "stdout",
     "output_type": "stream",
     "text": [
      "<intro_1> C <verse_1> F C E7 Amin C F C G7 C F C E7 Amin C F G7 C <verse_2> F C E7 Amin C F C G7 C F C E7 Amin C F G7 C <chorus_1> F C F C G C F C E7 Amin C F G7 C <solo_1> D <chorus_2> G D G D A D G D Fs7 Bmin D G A7 D G A7 D\n",
      "['<intro_1>', 'F', '<verse_1>', 'As', 'F', 'A7', 'Dmin', 'F', 'As', 'F', 'C7', 'F', 'As', 'F', 'A7', 'Dmin', 'F', 'As', 'C7', 'F', '<verse_2>', 'As', 'F', 'A7', 'Dmin', 'F', 'As', 'F', 'C7', 'F', 'As', 'F', 'A7', 'Dmin', 'F', 'As', 'C7', 'F', '<chorus_1>', 'As', 'F', 'As', 'F', 'C', 'F', 'As', 'F', 'A7', 'Dmin', 'F', 'As', 'C7', 'F', '<solo_1>', 'G', '<chorus_2>', 'C', 'G', 'C', 'G', 'D', 'G', 'C', 'G', 'B7', 'Emin', 'G', 'C', 'D7', 'G', 'C', 'D7', 'G']\n",
      "<intro_1> E D A E D A <verse_1> E D A E D A E D A E D A C <chorus_1> E G D A E G D A E G D A C D E D A <verse_2> E D A E D A E D A E D A C <chorus_2> E G D A E G D A E G D A C D <bridge_1> E C G D E C G D E C G D C D E G E G D A E G D A E G D A C D <chorus_3> E G D A E G D A E G D A C D <bridge_2> E C G D E C G D E C G D C D E\n",
      "['<intro_1>', 'A', 'G', 'D', 'A', 'G', 'D', '<verse_1>', 'A', 'G', 'D', 'A', 'G', 'D', 'A', 'G', 'D', 'A', 'G', 'D', 'F', '<chorus_1>', 'A', 'C', 'G', 'D', 'A', 'C', 'G', 'D', 'A', 'C', 'G', 'D', 'F', 'G', 'A', 'G', 'D', '<verse_2>', 'A', 'G', 'D', 'A', 'G', 'D', 'A', 'G', 'D', 'A', 'G', 'D', 'F', '<chorus_2>', 'A', 'C', 'G', 'D', 'A', 'C', 'G', 'D', 'A', 'C', 'G', 'D', 'F', 'G', '<bridge_1>', 'A', 'F', 'C', 'G', 'A', 'F', 'C', 'G', 'A', 'F', 'C', 'G', 'F', 'G', 'A', 'C', 'A', 'C', 'G', 'D', 'A', 'C', 'G', 'D', 'A', 'C', 'G', 'D', 'F', 'G', '<chorus_3>', 'A', 'C', 'G', 'D', 'A', 'C', 'G', 'D', 'A', 'C', 'G', 'D', 'F', 'G', '<bridge_2>', 'A', 'F', 'C', 'G', 'A', 'F', 'C', 'G', 'A', 'F', 'C', 'G', 'F', 'G', 'A']\n"
     ]
    }
   ],
   "source": [
    "\n",
    "for progression in df['chords'][:2]:\n",
    "    # shift = 5\n",
    "    converted_progression, converted_progression_base = convert_chord(progression, shift)"
   ]
  },
  {
   "cell_type": "code",
   "execution_count": 22,
   "metadata": {},
   "outputs": [
    {
     "data": {
      "text/plain": [
       "['nextnext',\n",
       " 'Fmaj7',\n",
       " 'F',\n",
       " 'Fmaj7',\n",
       " 'F',\n",
       " 'nextnext',\n",
       " 'C',\n",
       " 'G',\n",
       " 'Amin',\n",
       " 'G',\n",
       " 'Amin',\n",
       " 'Dmin',\n",
       " 'G',\n",
       " 'C',\n",
       " 'nextnext',\n",
       " 'F',\n",
       " 'Fmaj7',\n",
       " 'F',\n",
       " 'C',\n",
       " 'Fmaj7',\n",
       " 'F',\n",
       " 'Dmin7',\n",
       " 'Amin',\n",
       " 'nextnext',\n",
       " 'C',\n",
       " 'Fmaj7',\n",
       " 'F',\n",
       " 'Dmin7',\n",
       " 'nextnext',\n",
       " 'C',\n",
       " 'F',\n",
       " 'C',\n",
       " 'F',\n",
       " 'Dmin7',\n",
       " 'C',\n",
       " 'F',\n",
       " 'Dmin7',\n",
       " 'G',\n",
       " 'nextnext',\n",
       " 'C',\n",
       " 'F',\n",
       " 'Dmin',\n",
       " 'F',\n",
       " 'nextnext',\n",
       " 'C',\n",
       " 'F',\n",
       " 'C',\n",
       " 'F',\n",
       " 'Dmin',\n",
       " 'C',\n",
       " 'nextnext',\n",
       " 'Fmaj7',\n",
       " 'F',\n",
       " 'Dmin']"
      ]
     },
     "execution_count": 22,
     "metadata": {},
     "output_type": "execute_result"
    }
   ],
   "source": [
    "converted_progression"
   ]
  },
  {
   "cell_type": "code",
   "execution_count": null,
   "metadata": {},
   "outputs": [],
   "source": []
  }
 ],
 "metadata": {
  "kernelspec": {
   "display_name": "Python 3",
   "language": "python",
   "name": "python3"
  },
  "language_info": {
   "codemirror_mode": {
    "name": "ipython",
    "version": 3
   },
   "file_extension": ".py",
   "mimetype": "text/x-python",
   "name": "python",
   "nbconvert_exporter": "python",
   "pygments_lexer": "ipython3",
   "version": "3.12.0"
  }
 },
 "nbformat": 4,
 "nbformat_minor": 2
}
